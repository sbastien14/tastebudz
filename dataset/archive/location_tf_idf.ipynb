{
 "cells": [
  {
   "cell_type": "code",
   "execution_count": null,
   "metadata": {},
   "outputs": [],
   "source": [
    "import numpy as np\n",
    "import pandas as pd\n",
    "from pandas import dataframe as df\n",
    "import geopandas as gp\n",
    "from gp import Geoseries as gs\n",
    "from geopy import great_circle\n",
    "import folium\n",
    "import geodatasets\n",
    "import geoplot as gplt\n",
    "import matplotlib as plt\n",
    "from shapely.geometry import Point, Polygon"
   ]
  },
  {
   "cell_type": "code",
   "execution_count": null,
   "metadata": {},
   "outputs": [],
   "source": [
    "cleaned_data = \"/Users/samanthabastien/Desktop/Desktop - Samantha’s MacBook Pro/fall 2023/tastebudz/repository/tastebudz/dataset/archive/cleaned_data.csv\"\n",
    "test_data = \"/Users/samanthabastien/Desktop/Desktop - Samantha’s MacBook Pro/fall 2023/tastebudz/repository/tastebudz/dataset/archive/test_data.csv\"\n"
   ]
  },
  {
   "cell_type": "code",
   "execution_count": null,
   "metadata": {},
   "outputs": [],
   "source": [
    "#only going focus on location and cuisine type for bag of words matrix and tf-idf\n",
    "df1 = pd.read_csv(cleaned_data)\n",
    "geo_df = df1.loc(\"id\",\"name\", \"category\", \"lat\", \"lng\")\n",
    "bow_df = df1.loc(\"category\")"
   ]
  },
  {
   "cell_type": "code",
   "execution_count": null,
   "metadata": {},
   "outputs": [],
   "source": [
    "geometry = gp.points_from_xy(df.lat, df.lng)\n",
    "geo_df = gp.GeoDataFrame(geo_df[[\"id\",\"name\", \"category\", \"lat\", \"lng\"]], geometry=geometry)"
   ]
  },
  {
   "cell_type": "code",
   "execution_count": null,
   "metadata": {},
   "outputs": [],
   "source": [
    "#map for projection\n",
    "world = geopandas.read_file(\"https://naciscdn.org/naturalearth/110m/cultural/ne_110m_admin_0_countries.zip\")"
   ]
  },
  {
   "cell_type": "code",
   "execution_count": null,
   "metadata": {},
   "outputs": [],
   "source": [
    "def create_geofence(lat, long, distance):\n",
    "    # create boundary\n",
    "    center_point = Point(long, lat)\n",
    "    north_point = great_circle(miles=distance).destination(center_point, 0)\n",
    "    south_point = great_circle(miles=distance).destination(center_point, 180)\n",
    "    east_point = great_circle(miles=distance).destination(center_point, 90)\n",
    "    west_point = great_circle(miles=distance).destination(center_point, 270)\n",
    "\n",
    "    # Create a polygon from the bounding box coordinates\n",
    "    geofence_polygon = Polygon([north_point, east_point, south_point, west_point, north_point])\n",
    "\n",
    "    # Create a GeoDataFrame from the polygon\n",
    "    geofence_gdf = gp.GeoDataFrame(geometry=[geofence_polygon])\n",
    "\n",
    "    return geofence_gdf"
   ]
  },
  {
   "cell_type": "code",
   "execution_count": null,
   "metadata": {},
   "outputs": [],
   "source": [
    "def plot_geofence(geofence_gdf):\n",
    "     # Create a world map\n",
    "    world = gp.read_file(gpd.datasets.get_path('naturalearth_lowres'))\n",
    "\n",
    "    # Plot the world map\n",
    "    ax = gplt.polyplot(world, projection=gcrs.PlateCarree(), figsize=(12, 8))\n",
    "\n",
    "    # Overlay the geofence polygon\n",
    "    gplt.polyplot(geofence_gdf, ax=ax, facecolor=\"none\", edgecolor=\"red\")\n",
    "\n",
    "    # Set plot title\n",
    "    plt.title(\"Geofence on World Map\")\n",
    "\n",
    "    # Show the plot\n",
    "    plt.show()\n",
    "    return"
   ]
  }
 ],
 "metadata": {
  "language_info": {
   "name": "python"
  },
  "orig_nbformat": 4
 },
 "nbformat": 4,
 "nbformat_minor": 2
}
